{
 "cells": [
  {
   "cell_type": "code",
   "execution_count": 13,
   "id": "e49f8f8b",
   "metadata": {},
   "outputs": [],
   "source": [
    "import random\n",
    "\n",
    "\n",
    "board = [\"-\", \"-\", \"-\",\n",
    "        \"-\", \"-\", \"-\",\n",
    "        \"-\", \"-\", \"-\"]\n",
    "currentPlayer = \"X\"\n",
    "winner = None\n",
    "game_run = True"
   ]
  },
  {
   "cell_type": "code",
   "execution_count": 14,
   "id": "e6414bf7",
   "metadata": {},
   "outputs": [
    {
     "data": {
      "text/plain": [
       "['-', '-', '-', '-', '-', '-', '-', '-', '-']"
      ]
     },
     "execution_count": 14,
     "metadata": {},
     "output_type": "execute_result"
    }
   ],
   "source": [
    "board"
   ]
  },
  {
   "cell_type": "code",
   "execution_count": 15,
   "id": "1cf8adf4",
   "metadata": {},
   "outputs": [],
   "source": [
    "# game board\n",
    "def printboard(board):\n",
    "    print(board[0] + \" | \" + board[1] + \" | \" + board[2])\n",
    "    print(\"-\"*11)\n",
    "    print(board[3] + \" | \" + board[4] + \" | \" + board[5])\n",
    "    print(\"-\"*11)\n",
    "    print(board[6] + \" | \" + board[7] + \" | \" + board[8])"
   ]
  },
  {
   "cell_type": "code",
   "execution_count": 16,
   "id": "ead9c84a",
   "metadata": {},
   "outputs": [
    {
     "name": "stdout",
     "output_type": "stream",
     "text": [
      "- | - | -\n",
      "-----------\n",
      "- | - | -\n",
      "-----------\n",
      "- | - | -\n"
     ]
    }
   ],
   "source": [
    "printboard(board)"
   ]
  },
  {
   "cell_type": "code",
   "execution_count": 17,
   "id": "c397a163",
   "metadata": {},
   "outputs": [],
   "source": [
    "def player_input(board):\n",
    "    enter_num = int(input(\"Select a spot 1-9: \"))\n",
    "    if board[enter_num-1] == \"-\":\n",
    "        board[enter_num-1] = currentPlayer\n",
    "    else:\n",
    "        print(\"player is already at that spot\")\n",
    "# check for win or tie\n",
    "def chek_horizontal(board):\n",
    "    global winner\n",
    "    if board[0] == board[1] == board[2] and board[0] != \"-\":\n",
    "        winner = board[0]\n",
    "        return True\n",
    "    elif board[3] == board[4] == board[5] and board[3] != \"-\":\n",
    "        winner = board[3]\n",
    "        return True\n",
    "    elif board[6] == board[7] == board[8] and board[6] != \"-\":\n",
    "        winner = board[6]\n",
    "        return True\n",
    "\n",
    "def check_rows(board):\n",
    "    global winner\n",
    "    if board[0] == board[3] == board[6] and board[0] != \"-\":\n",
    "        winner = board[0]\n",
    "        return True\n",
    "    elif board[1] == board[4] == board[7] and board[1] != \"-\":\n",
    "        winner = board[1]\n",
    "        return True\n",
    "    elif board[2] == board[5] == board[8] and board[2] != \"-\":\n",
    "        winner = board[3]\n",
    "        return True\n",
    "\n",
    "\n",
    "def check_diagonal(board):\n",
    "    global winner\n",
    "    if board[0] == board[4] == board[8] and board[0] != \"-\":\n",
    "        winner = board[0]\n",
    "        return True\n",
    "    elif board[2] == board[4] == board[6] and board[4] != \"-\":\n",
    "        winner = board[2]\n",
    "        return True\n",
    "\n",
    "\n",
    "def checkIfWin(board):\n",
    "    global game_run\n",
    "    if chek_horizontal(board):\n",
    "        printboard(board)\n",
    "        print(f\"The winner is {winner}\")\n",
    "        game_run = False\n",
    "\n",
    "    elif check_rows(board):\n",
    "        printboard(board)\n",
    "        print(f\"The winner is {winner}\")\n",
    "        game_run = False\n",
    "\n",
    "    elif check_diagonal(board):\n",
    "        printboard(board)\n",
    "        print(f\"The winner is {winner}\")\n",
    "        game_run = False\n",
    "\n",
    "\n",
    "def checkIfTie(board):\n",
    "    global game_run\n",
    "    if \"-\" not in board:\n",
    "        printboard(board)\n",
    "        print(\"It is a tie\")\n",
    "        game_run = False\n",
    "# switch player\n",
    "def switchPlayer():\n",
    "    global currentPlayer\n",
    "    if currentPlayer == \"X\":\n",
    "        currentPlayer = \"O\"\n",
    "    else:\n",
    "        currentPlayer = \"X\"\n",
    "\n",
    "\n",
    "def computer(board):\n",
    "    while currentPlayer == \"O\":\n",
    "        position = random.randint(0, 8)\n",
    "        if board[position] == \"-\":\n",
    "            board[position] = \"O\"\n",
    "            switchPlayer()\n",
    "\n",
    "\n",
    "\n"
   ]
  },
  {
   "cell_type": "code",
   "execution_count": 18,
   "id": "37b22bb7",
   "metadata": {},
   "outputs": [
    {
     "name": "stdout",
     "output_type": "stream",
     "text": [
      "- | - | -\n",
      "-----------\n",
      "- | - | -\n",
      "-----------\n",
      "- | - | -\n",
      "Select a spot 1-9: 2\n",
      "- | X | O\n",
      "-----------\n",
      "- | - | -\n",
      "-----------\n",
      "- | - | -\n",
      "Select a spot 1-9: 5\n",
      "- | X | O\n",
      "-----------\n",
      "- | X | -\n",
      "-----------\n",
      "- | O | -\n",
      "Select a spot 1-9: 6\n",
      "- | X | O\n",
      "-----------\n",
      "- | X | X\n",
      "-----------\n",
      "- | O | O\n",
      "Select a spot 1-9: 4\n",
      "- | X | O\n",
      "-----------\n",
      "X | X | X\n",
      "-----------\n",
      "- | O | O\n",
      "The winner is X\n",
      "- | X | O\n",
      "-----------\n",
      "X | X | X\n",
      "-----------\n",
      "O | O | O\n",
      "The winner is X\n"
     ]
    }
   ],
   "source": [
    "while game_run:\n",
    "    printboard(board)\n",
    "    player_input(board)\n",
    "    checkIfWin(board)\n",
    "    checkIfTie(board)\n",
    "    switchPlayer()\n",
    "    computer(board)\n",
    "    checkIfWin(board)\n",
    "    checkIfTie(board)\n",
    "\n"
   ]
  },
  {
   "cell_type": "code",
   "execution_count": null,
   "id": "f439f766",
   "metadata": {},
   "outputs": [],
   "source": []
  }
 ],
 "metadata": {
  "kernelspec": {
   "display_name": "Python 3",
   "language": "python",
   "name": "python3"
  },
  "language_info": {
   "codemirror_mode": {
    "name": "ipython",
    "version": 3
   },
   "file_extension": ".py",
   "mimetype": "text/x-python",
   "name": "python",
   "nbconvert_exporter": "python",
   "pygments_lexer": "ipython3",
   "version": "3.9.16"
  }
 },
 "nbformat": 4,
 "nbformat_minor": 5
}
